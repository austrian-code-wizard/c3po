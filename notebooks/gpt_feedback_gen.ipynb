{
 "cells": [
  {
   "cell_type": "markdown",
   "metadata": {},
   "source": [
    "This notebook contains two prompts used to prompt gpt4 to generate feedback in two categories: lower level style feedback and higher level content feedback\n",
    "Then the user can copy the outputs (it sometimes takes a few generations to get enough prompts or ones you like) into a json file and run other cells to convert it to feedback. Note that for conversion to feedback the effect, scope, and comparison are all filler."
   ]
  },
  {
   "cell_type": "code",
   "execution_count": 4,
   "metadata": {},
   "outputs": [],
   "source": [
    "from openai import OpenAI\n",
    "client = OpenAI(\n",
    "    api_key=\"INSERT_KEY\",\n",
    ")"
   ]
  },
  {
   "cell_type": "code",
   "execution_count": 3,
   "metadata": {},
   "outputs": [],
   "source": [
    "def get_response(prompt):\n",
    "    completion = client.chat.completions.create(\n",
    "        model=\"gpt-4-1106-preview\",\n",
    "        messages=[\n",
    "            {'role': 'system', 'content': \"You are a helpful assistant that always closely follows instructions.\"},\n",
    "            {'role': 'user', 'content': prompt}\n",
    "        ],\n",
    "    )\n",
    "    response = completion.choices[0].message.content\n",
    "    return response"
   ]
  },
  {
   "cell_type": "code",
   "execution_count": 29,
   "metadata": {},
   "outputs": [
    {
     "name": "stdout",
     "output_type": "stream",
     "text": [
      "```json\n",
      "[\n",
      "  { \"effect\": \"integrate advanced technical jargon\", \"domain\": \"writing articles for a specialized science magazine\", \"feedback\": \"Integrate advanced technical jargon when writing articles for a specialized science magazine\" },\n",
      "  { \"effect\": \"incorporate Shakespearean English\", \"domain\": \"composing creative stories for a literature class\", \"feedback\": \"Incorporate Shakespearean English in composing creative stories for a literature class\" },\n",
      "  { \"effect\": \"insert relevant emojis\", \"domain\": \"sending promotional messages to a younger audience\", \"feedback\": \"Insert relevant emojis when sending promotional messages to a younger audience\" },\n",
      "  { \"effect\": \"include pseudocode\", \"domain\": \"explaining algorithms in a programming blog\", \"feedback\": \"Include pseudocode for explaining algorithms in a programming blog\" },\n",
      "  { \"effect\": \"format responses in bullet points\", \"domain\": \"answering frequently asked questions on a website\", \"feedback\": \"Format responses in bullet points when answering frequently asked questions on a website\" },\n",
      "  { \"effect\": \"use storytelling techniques\", \"domain\": \"crafting product descriptions for an online store\", \"feedback\": \"Use storytelling techniques when crafting product descriptions for an online store\" },\n",
      "  { \"effect\": \"embed interactive elements\", \"domain\": \"creating educational content for an e-learning platform\", \"feedback\": \"Embed interactive elements in creating educational content for an e-learning platform\" },\n",
      "  { \"effect\": \"apply legalese language\", \"domain\": \"drafting terms of service for a new app\", \"feedback\": \"Apply legalese language when drafting terms of service for a new app\" },\n",
      "  { \"effect\": \"introduce pop culture references\", \"domain\": \"writing a review for a trendy restaurant\", \"feedback\": \"Introduce pop culture references when writing a review for a trendy restaurant\" },\n",
      "  { \"effect\": \"implement code optimization explanations\", \"domain\": \"giving feedback on software development forums\", \"feedback\": \"Implement code optimization explanations when giving feedback on software development forums\" },\n",
      "  { \"effect\": \"compose using iambic pentameter\", \"domain\": \"writing custom greetings for greeting cards\", \"feedback\": \"Compose using iambic pentameter when writing custom greetings for greeting cards\" },\n",
      "  { \"effect\": \"develop a distinct character voice\", \"domain\": \"creating dialogue for a video game script\", \"feedback\": \"Develop a distinct character voice for creating dialogue in a video game script\" },\n",
      "  { \"effect\": \"incorporate data visualizations\", \"domain\": \"providing market analysis in a business report\", \"feedback\": \"Incorporate data visualizations when providing market analysis in a business report\" },\n",
      "  { \"effect\": \"use stream-of-consciousness style\", \"domain\": \"writing a personal blog post\", \"feedback\": \"Use stream-of-consciousness style in writing personal blog posts\" },\n",
      "  { \"effect\": \"apply a question-and-answer format\", \"domain\": \"composing interview articles\", \"feedback\": \"Apply a question-and-answer format when composing interview articles\" },\n",
      "  { \"effect\": \"write in the second person narrative\", \"domain\": \"creating interactive fiction\", \"feedback\": \"Write in the second person narrative for creating interactive fiction\" },\n",
      "  { \"effect\": \"maintain a haiku structure\", \"domain\": \"posting daily updates on social media\", \"feedback\": \"Maintain a haiku structure when posting daily updates on social media\" },\n",
      "  { \"effect\": \"employ a telegraph style of short sentences\", \"domain\": \"sending updates during a live event\", \"feedback\": \"Employ a telegraph style of short sentences when sending updates during a live event\" },\n",
      "  { \"effect\": \"ensure adherence to AP Style\", \"domain\": \"writing news articles for an online publication\", \"feedback\": \"Ensure adherence to AP Style when writing news articles for an online publication\" },\n",
      "  { \"effect\": \"use a Socratic method of asking questions\", \"domain\": \"explaining philosophy topics on a discussion forum\", \"feedback\": \"Use a Socratic method of asking questions when explaining philosophy topics on a discussion forum\" },\n",
      "  { \"effect\": \"follow screenplay formatting rules\", \"domain\": \"drafting scripts for independent films\", \"feedback\": \"Follow screenplay formatting rules when drafting scripts for independent films\" },\n",
      "  { \"effect\": \"include step-by-step instructions\", \"domain\": \"writing DIY project guides\", \"feedback\": \"Include step-by-step instructions in writing DIY project guides\" },\n",
      "  { \"effect\": \"utilize sports terminology\", \"domain\": \"commenting on an athlete's performance in a blog post\", \"feedback\": \"Utilize sports terminology when commenting on an athlete's performance in a blog post\" },\n",
      "  { \"effect\": \"employ non-linear narrative\", \"domain\": \"writing plot summaries for a movie review website\", \"feedback\": \"Employ non-linear narrative in writing plot summaries for a movie review website\" },\n",
      "  { \"effect\": \"insert academic citations\", \"domain\": \"producing research summaries for academic journals\", \"feedback\": \"Insert academic citations when producing research summaries for academic journals\" },\n",
      "  { \"effect\": \"present information in a cause-and-effect structure\", \"domain\": \"explaining historical events for an educational website\", \"feedback\": \"Present information in a cause-and-effect structure when explaining historical events for an educational website\" },\n",
      "  { \"effect\": \"compose using varied poetic forms\", \"domain\": \"submitting work to a poetry contest\", \"feedback\": \"Compose using varied poetic forms when submitting work to a poetry contest\" },\n",
      "  { \"effect\": \"use technical drawing annotations\", \"domain\": \"describing engineering designs in a document\", \"feedback\": \"Use technical drawing annotations when describing engineering designs in a document\" },\n",
      "  { \"effect\": \"include sensory descriptions\", \"domain\": \"writing travel blog entries\", \"feedback\": \"Include sensory descriptions in writing travel blog entries\" },\n",
      "  { \"effect\": \"provide cross-cultural comparisons\", \"domain\": \"writing articles about global business etiquette\", \"feedback\": \"Provide cross-cultural comparisons when writing articles about global business etiquette\" },\n",
      "  { \"effect\": \"write following the inverted pyramid structure\", \"domain\": \"composing press releases for a PR agency\", \"feedback\": \"Write following the inverted pyramid structure when composing press releases for a PR agency\" },\n",
      "  { \"effect\": \"apply a lighthearted and whimsical tone\", \"domain\": \"drafting content for a children's entertainment website\", \"feedback\": \"Apply a lighthearted and whimsical tone when drafting content for a children's entertainment website\" },\n",
      "  { \"effect\": \"use a comparison and contrast framework\", \"domain\": \"creating content for a product review blog\", \"feedback\": \"Use a comparison and contrast framework when creating content for a product review blog\" },\n",
      "  { \"effect\": \"synthesize information into infographics\", \"domain\": \"delivering reports on social media analytics\", \"feedback\": \"Synthesize information into infographics when delivering reports on social media analytics\" },\n",
      "  { \"effect\": \"adapt classical Greek rhetoric\", \"domain\": \"writing persuasive essays on contemporary issues\", \"feedback\": \"Adapt classical Greek rhetoric when writing persuasive essays on contemporary issues\" },\n",
      "  { \"effect\": \"integrate dialects and regional speech\", \"domain\": \"composing narratives for a cultural heritage project\", \"feedback\": \"Integrate dialects and regional speech when composing narratives for a cultural heritage project\" },\n",
      "  { \"effect\": \"construct a dialogue-heavy approach\", \"domain\": \"writing a tutorial for a conversation-based language app\", \"feedback\": \"Construct a dialogue-heavy approach in writing tutorials for a conversation-based language app\" },\n",
      "  { \"effect\": \"base the writing on specific meter and rhyme scheme\", \"domain\": \"creating lyrics for a new musical composition\", \"feedback\": \"Base the writing on a specific meter and rhyme scheme when creating lyrics for a new musical composition\" },\n",
      "  { \"effect\": \"use persuasive language with calls to action\", \"domain\": \"drafting campaign emails for a political candidate\", \"feedback\": \"Use persuasive language with calls to action when drafting campaign emails for a political candidate\" }\n",
      "]\n",
      "```\n"
     ]
    }
   ],
   "source": [
    "STYLE_PROMPT_EFFECT = \"\"\"You are a helpful assistant that always closely follows instructions. Your overall task is to generate feedback which a user gives to a LLM to improve its responses. The user is asking the LLM for responses and has found something they would like the LLM to improve upon. This means the feedback should be something a LLM would not already follow well. For example, feedback to \"write work emails more politely\" is NOT GOOD because LLMs already generate very polite work emails. The feedback should target something the LLM can improve on. Assume this LLM only takes text as input and outputs only text.\n",
    "\n",
    "Your task is to generate 100 sets of effects, domain, and feedbacks based on the following instructions:\n",
    "1. Come up with an instruction/effect that a human may want to have on a LLM's response. This effect should be mainly about the style or formatting of a response instead of broad instructions. The effect should not focus on content or tone. \n",
    "2. Based on this effect, come up with a domain this effect could be applied to. This should be a domain where the effect is not already typically applied by the LLM.\n",
    "3. Combine the effect and domain to create a piece of feedback. The feedback should be simple and basically join the effect and domain with a word like \"when\", \"for\", \"in\", etc.\n",
    "\n",
    "Below are a few examples:\n",
    "Example 1: { \"effect\"=\"use London gangster vernacular\", \"domain\": \"sending texts to my friend Peter\", \"feedback\": \"Use London gangster vernacular when texting my friend Peter\" }\n",
    "Example 2: { \"effect\"=\"be more detailed\", \"domain\": \"writing an email to my PI Anna\", \"feedback\": \"Be more detailed in your emails to my PI Anna\" }\n",
    "Example 3: { \"effect\"=\"be more concise\", \"domain\": \"writing an email to my boss Jared\", \"feedback\": \"Be more concise when emailing my boss Jared\" }\n",
    "Example 4: { \"effect\"=\"end emails with “Best,\\nMoritz”\", \"domain\": \"writing work emails\", \"feedback\": \"End work emails with “Best,\\nMoritz”\" }\n",
    "Example 5: { \"effect\"=\"use German\", \"domain\": \"writing emails to my colleague Max\", \"feedback\": \"Use German when emailing my colleague Max\" }\n",
    "\n",
    "Be creative and think out of the box. Do not repeat feedback, effects, or domains. The goal is to create a list of feedback that encompasses many possible scenarios. Output ONLY the feedback, effect, and domain in structured json format.\n",
    "\"\"\"\n",
    "\n",
    "rep = get_response(STYLE_PROMPT_EFFECT)\n",
    "print(rep)"
   ]
  },
  {
   "cell_type": "code",
   "execution_count": 38,
   "metadata": {},
   "outputs": [
    {
     "name": "stdout",
     "output_type": "stream",
     "text": [
      "```json\n",
      "[\n",
      "  {\n",
      "    \"effect\": \"provide context-specific advice without using tech jargon\",\n",
      "    \"domain\": \"advising on digital privacy\",\n",
      "    \"feedback\": \"When advising on digital privacy, provide context-specific advice without using tech jargon\"\n",
      "  },\n",
      "  {\n",
      "    \"effect\": \"integrate humor to lighten the discussion\",\n",
      "    \"domain\": \"explaining medical conditions\",\n",
      "    \"feedback\": \"In explaining medical conditions, integrate humor to lighten the discussion\"\n",
      "  }\n",
      "]\n",
      "```\n"
     ]
    }
   ],
   "source": [
    "CONTENT_PROMPT_EFFECT = \"\"\"You are a helpful assistant that always closely follows instructions. Your overall task is to generate feedback which a user gives to a LLM to improve its responses. The user is asking the LLM for responses and has found something they would like the LLM to improve upon. This means the feedback should be something a LLM would not already follow well. For example, feedback to \"write work emails more politely\" is NOT GOOD because LLMs already generate very polite work emails. The feedback should target something the LLM can improve on. Assume this LLM only takes text as input and outputs only text.\n",
    "\n",
    "Your task is to generate 100 sets of effects, domain, and feedbacks based on the following instructions:\n",
    "1. Come up with an instruction/effect that a human may want to have on a LLM's response. This effect be mainly about the content or tone of a response. The effect should not focus on style or formatting. \n",
    "2. Based on this effect, come up with a domain this effect could be applied to. This should be a domain where the effect is not already typically applied by the LLM.\n",
    "3. Combine the effect and domain to create a piece of feedback. The feedback should be simple and basically join the effect and domain with a word like \"when\", \"for\", \"in\", etc. Do not provide extra information beyond the effect and domain.\n",
    "\n",
    "Below are a few examples:\n",
    "Example 1: { \"effect\": \"assume that I do not have any knowledge of math beyond a fourth grade level\", \"domain\": \"Explaining math questions\" , \"feedback\": \"When explaining math questions, assume that I do not have any knowledge of math beyond a fourth grade level\"} \n",
    "Example 2: { \"effect\": \"make stories have dramatic, negative endings\", \"domain\": \"Doing creative writing\", \"feedback\": \"Whenever you do creative writing, make sure that stories have dramatic, negative endings\" } \n",
    "Example 3: { \"effect\": \"use simple language and sentences\", \"domain\": \"writing children's books\", \"feedback\": \"When writing children's books, use simple language and sentences\" } \n",
    "Example 4: { \"effect\": \"use a refined and controlled tone\", \"domain\": \"texting my mom\", \"feedback\": \"When texting my mom, use a refined and controlled tone\"} \n",
    "Example 5: { \"effect\": \"use a formal and professional tone\", \"domain\": \"emailing Jared\", \"feedback\": \"When emailing Jared, use a formal and professional tone\"}\n",
    "\n",
    "Be creative and think out of the box. Do not repeat feedback, effects, or domains. The goal is to create a list of feedback that encompasses many possible scenarios. Output ONLY the feedback, effect, and domain in structured json format.\n",
    "\"\"\"\n",
    "\n",
    "rep = get_response(CONTENT_PROMPT_EFFECT)\n",
    "print(rep)"
   ]
  },
  {
   "cell_type": "code",
   "execution_count": null,
   "metadata": {},
   "outputs": [],
   "source": [
    "import json\n",
    "\n",
    "## if it's unable to decode its fine to just copy and paste the response into the json file\n",
    "\n",
    "generated = []\n",
    "while len(generated) < 100:\n",
    "    print(\"num generated\", len(generated))\n",
    "    resp = get_response(CONTENT_PROMPT_EFFECT)\n",
    "    print(resp)\n",
    "    if resp[0:7] == \"```json\": # tries to output in markdown\n",
    "        resp = resp[8:-3]\n",
    "    try:\n",
    "        obj = json.loads(resp)\n",
    "        generated.extend(obj)\n",
    "    except json.JSONDecodeError:\n",
    "        pass\n",
    "\n",
    "with open(\"working_json/gpt_feedback_content.json\", \"w+\") as f:\n",
    "    json.dump(generated, f)"
   ]
  },
  {
   "cell_type": "code",
   "execution_count": 40,
   "metadata": {},
   "outputs": [],
   "source": [
    "# convert json into feedback\n",
    "\n",
    "import json\n",
    "\n",
    "ending = \"content\" # content or style\n",
    "with open(f\"working_json/gpt_feedback_{ending}.json\", \"r\") as f:\n",
    "    obj = json.load(f)\n",
    "\n",
    "with open(f\"../src/feedback/gpt_{ending}.py\", \"w+\") as out:\n",
    "    out.write(f\"from src.dataset.feedback_utils import Feedback, Scope, Type, Metric, Comparison\\n\\ngpt_{ending}_feedback = [\\n\")\n",
    "    for i in obj:\n",
    "        out_str = \"\"\" \n",
    "    Feedback(\n",
    "        content=\"{feedback}\",\n",
    "        domain=\"{domain}\",\n",
    "        effect=\"{effect}\",\n",
    "        scope=Scope.regional,\n",
    "        categories=[\"gpt_{ending}\"],\n",
    "        type=Type.qualitative,\n",
    "        comparison=Comparison.greater_than\n",
    "    ),\n",
    "\"\"\".format(feedback=i[\"feedback\"], domain=i[\"domain\"], effect=i[\"effect\"], ending=ending)\n",
    "        out.write(out_str + \"\\n\")\n",
    "    out.write(\"]\\n\")"
   ]
  }
 ],
 "metadata": {
  "kernelspec": {
   "display_name": "gfl2",
   "language": "python",
   "name": "python3"
  },
  "language_info": {
   "codemirror_mode": {
    "name": "ipython",
    "version": 3
   },
   "file_extension": ".py",
   "mimetype": "text/x-python",
   "name": "python",
   "nbconvert_exporter": "python",
   "pygments_lexer": "ipython3",
   "version": "3.11.5"
  }
 },
 "nbformat": 4,
 "nbformat_minor": 2
}
